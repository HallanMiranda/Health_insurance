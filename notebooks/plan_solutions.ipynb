{
 "cells": [
  {
   "cell_type": "markdown",
   "metadata": {},
   "source": [
    "# Live 16: O que é um modelo de negocio?\n",
    "- \"Como voce planeja ganhar dinheiro.\" \n",
    "- \"Um modelo de negocio descreve a logica de criacao, entrega e captura de valor por parte de uma organizacao.\"\n",
    "\n",
    "    * Os principais modelos de negocio\n",
    "E-commerce :\n",
    "    - faturamento é dado pelas vendas de produto.\n",
    "Classes de produto.    \n",
    "    * Tem O fabricante do produto com fabricacao propria entao ele tem dentro de casa todo o custo de fabricacao desse produto depois vende.\n",
    "    * O que compra de fornecedores e revende para os clientes, entao ele terceriza parte do custo e coloca uma margem em cima chamado de MARKUP PARA REVENDER.\n",
    "    * O que compra do fornecedor coloca sua marca e revende, ele nao produz mais manda alguem produzir INTERNAMENTE e revende PRIVATELABEL.\n",
    "Produção Própria (Fabricação Interna):\n",
    "\n",
    "Vantagens:\n",
    "Controle de Qualidade: Como já mencionado, ter controle direto sobre o processo de produção permite garantir a qualidade do produto.\n",
    "Margem de Manejo Maior: A capacidade de ajustar a produção com base na demanda pode resultar em uma melhor gestão de estoque e redução de desperdícios.\n",
    "Identidade da Marca: Produzir produtos internamente permite construir uma identidade de marca única.\n",
    "Desvantagens:\n",
    "Custo Maior: O custo associado à produção própria pode ser mais elevado, considerando a necessidade de instalações, equipamentos, mão de obra especializada, entre outros.\n",
    "Complexidade Operacional: Gerenciar uma cadeia de produção completa pode ser complexo e exigir habilidades específicas.\n",
    "Riscos Financeiros: Investir em produção própria carrega riscos financeiros, especialmente se a demanda não corresponder às expectativas.\n",
    "Revenda de Produtos (Compras de Fornecedores e Private Label):\n",
    "\n",
    "Vantagens:\n",
    "Custos Menores: Ao comprar produtos prontos de fornecedores, os custos iniciais podem ser menores, especialmente se aproveitar economias de escala.\n",
    "Foco nas Competências Principais: Empresas podem concentrar esforços em áreas-chave, como marketing e vendas, sem se preocupar com a produção.\n",
    "Desvantagens:\n",
    "Menos Controle de Qualidade: A qualidade do produto depende do fornecedor, e a empresa tem menos controle sobre esse aspecto.\n",
    "Margens Menores em Revendas: Dependendo da concorrência, as margens de lucro podem ser mais estreitas, especialmente se estiver revendendo produtos de marca.\n",
    "Cada modelo tem suas próprias características e é crucial considerar fatores como o tipo de produto, o mercado-alvo, a capacidade financeira e as metas estratégicas ao escolher entre produção própria e modelos de revenda. A abordagem certa pode variar conforme as circunstâncias específicas de cada negócio.\n"
   ]
  },
  {
   "cell_type": "markdown",
   "metadata": {},
   "source": [
    "# Sobre o conjunto de dados\n",
    "\n",
    "- Contexto\n",
    "\n",
    "Nosso cliente é uma seguradora que oferece Seguro Saúde aos seus clientes, agora eles precisam da sua ajuda na construção de um modelo para prever se os segurados (clientes) do ano passado também terão interesse no Seguro Automóvel oferecido pela empresa.\n",
    "\n",
    "Uma apólice de seguro é um acordo pelo qual uma empresa se compromete a fornecer uma garantia de compensação por perdas, danos, doenças ou morte específicos em troca do pagamento de um prêmio específico. Um prêmio é uma quantia em dinheiro que o cliente precisa pagar regularmente a uma seguradora por esta garantia.\n",
    "\n",
    "Por exemplo, você pode pagar um prêmio de Rs. 5.000 por ano para uma cobertura de seguro saúde de Rs. 200.000/- para que se, Deus me livre, você adoecer e precisar ser hospitalizado naquele ano, a seguradora arcará com o custo da hospitalização, etc., por até Rs. 200.000. Agora, se você está se perguntando como uma empresa pode arcar com custos de hospitalização tão altos quando cobra um prêmio de apenas Rs. 5000/-, é aí que o conceito de probabilidades entra em cena. Por exemplo, como você, pode haver 100 clientes que pagariam um prêmio de Rs. 5.000 todos os anos, mas apenas alguns deles (digamos 2-3) seriam hospitalizados naquele ano e nem todos. Dessa forma, todos compartilham o risco de todos os outros.\n",
    "\n",
    "Assim como o seguro médico, existe o seguro automóvel, onde todos os anos o cliente precisa pagar um prêmio de determinado valor à seguradora para que, em caso de acidente infeliz com o veículo, a seguradora forneça uma indenização (chamada de 'soma assegurada' ) Para o consumidor.\n",
    "\n",
    "Construir um modelo para prever se um cliente estaria interessado em seguro automóvel é extremamente útil para a empresa porque ela pode então planear a sua estratégia de comunicação para chegar a esses clientes e optimizar o seu modelo de negócio e receitas.\n",
    "\n",
    "Agora, para prever se o cliente estaria interessado em seguro de veículos, você tem informações sobre dados demográficos (sexo, idade, tipo de código de região), veículos (idade do veículo, danos), apólice (prêmio, canal de fornecimento) etc."
   ]
  },
  {
   "cell_type": "markdown",
   "metadata": {},
   "source": [
    "# Problema do negocio\n",
    "- Como usar Data science para a empresa vender mais ?\n",
    "\n",
    "- É uma mepresa de seguro essa empresaa oferece um seguro saude para seus assegurados e eles tem que pagar um valor anul e assim  fica assegurada por 1 ano, Agora o time de produto que farzer um novo produto um seguro de automovel e precisa saber se isso e viavel  e o quanto traria de retorno dinheiro e para quias pessoas eles deveriam oferecer , a ideia que eles tiveram e pegar na base de dados as pessoas que tinhasm um seguro de saude de clientes e fez uma pesquisa perguntando se essas pessoas comprariam o seguro ou nao, ai temos todas as caracteristicas dos clientes e a pesquisa das pessoas que compraria ou nao  o novo produto, agra temos os clientes que nao participaram dessa pesquisa e nao temos info se eles participara ou nao, ai temos novos clientes que nao participaram dessa pesquisa que nao temos info se participaria ou nao ai o grupo de Produto quer oferecer esse novo produto seguro de auto para essas novas pessoas.\n",
    "\n",
    "### Papel dos Cientista \n",
    "- Temos que pegar essa base de dados da pesquisa feita  treinar um classificador para dizser se as pessoa compraria ou nao , + temos uma problema para fazer essa campanha  ela tem um limite de pessoas , entao essa campanha foi decida pelo time de produto que ia ser feito um  contato direto ligacao telefonica para essas paessoas, entao o time de prduto vai passar uma lista para o time de comercial que vai ligar para essas pessaos e oferecer o seguro de carro. Otime de comercial tem um limite de capacidade para  2.000 ligacoes e a base tem 127.000 pessoas que podem receber essa ligacoes . ai fica a pergunta \"Quem sao as pessoas que devo ligar ?\", como que eu priorizo essas lista de ligaçoes."
   ]
  },
  {
   "cell_type": "markdown",
   "metadata": {},
   "source": [
    "### 10 Sprints \n",
    "* 1\n",
    "     - Planejamento da solucao\n",
    "     - Coleta dos Dados\n",
    "* 2    \n",
    "     - Analise descritiva\n",
    "     - Pesquisa de Negocios\n",
    "* 3     \n",
    "     - EDA\n",
    "     - Relatorio de Insights\n",
    "* 4    \n",
    "     - Preparaçao\n",
    "* 5\n",
    "    - Implementaçao dos Modelos\n",
    "* 6\n",
    "    - Metricas de negocio\n",
    "    - Tradução para o Negocio\n",
    "* 7\n",
    "    - Deploy do Modelo em Produção\n",
    "* 8\n",
    "    - Acesso aos Dados de Produção\n",
    "* 9\n",
    "    - Apresentação para o Negocio\n",
    "* 10\n",
    "    - Escrita de Artigo \n",
    "    - Aprendizados "
   ]
  },
  {
   "cell_type": "markdown",
   "metadata": {},
   "source": [
    "1. Aprender Fazendo\n",
    "    - Primeiro eu aprendo a aplicar deppis eu entendo com funciona.\n",
    "2. Boiar primeiro Para nadar depois.\n",
    "    - entender tudo para depois aplicar nao vai funcionar.\n",
    "3. tentar muitas vezes antes de ter a resposta pronta.\n",
    "    - Cada vez que voce olha a resposta voce perde a oportunidade de aprender algo\n",
    "4. Não overfitar o aprendizado.\n",
    "    - Nao tentar aprender tudo so as tecnis e o mindset para resolver problema ai vc resolve qualque problema com isso \n",
    "5. Ajudar quem esta precisando    \n",
    "    - Ajuda a prender 2x mais \n",
    "6. Esforco diario trabalho duro continuo e zero mimimi Sem consistencia diaria vove é so mais um tentando.    "
   ]
  },
  {
   "cell_type": "markdown",
   "metadata": {},
   "source": []
  },
  {
   "cell_type": "code",
   "execution_count": null,
   "metadata": {},
   "outputs": [],
   "source": []
  },
  {
   "cell_type": "code",
   "execution_count": null,
   "metadata": {},
   "outputs": [],
   "source": []
  },
  {
   "cell_type": "code",
   "execution_count": null,
   "metadata": {},
   "outputs": [],
   "source": []
  },
  {
   "cell_type": "code",
   "execution_count": null,
   "metadata": {},
   "outputs": [],
   "source": []
  }
 ],
 "metadata": {
  "kernelspec": {
   "display_name": "env-pa004",
   "language": "python",
   "name": "python3"
  },
  "language_info": {
   "codemirror_mode": {
    "name": "ipython",
    "version": 3
   },
   "file_extension": ".py",
   "mimetype": "text/x-python",
   "name": "python",
   "nbconvert_exporter": "python",
   "pygments_lexer": "ipython3",
   "version": "3.11.5"
  },
  "orig_nbformat": 4
 },
 "nbformat": 4,
 "nbformat_minor": 2
}
