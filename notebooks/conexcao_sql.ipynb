{
 "cells": [
  {
   "cell_type": "code",
   "execution_count": null,
   "metadata": {},
   "outputs": [],
   "source": [
    "# As duas para conexcao com bandc de dados\n",
    "# SQL Alchemy\n",
    "\n",
    "# psycopg2"
   ]
  },
  {
   "cell_type": "code",
   "execution_count": 3,
   "metadata": {},
   "outputs": [],
   "source": [
    "import psycopg2 as pg"
   ]
  },
  {
   "cell_type": "code",
   "execution_count": 4,
   "metadata": {},
   "outputs": [],
   "source": [
    "# pip install psycopg2-binary"
   ]
  },
  {
   "cell_type": "code",
   "execution_count": 5,
   "metadata": {},
   "outputs": [],
   "source": [
    "# Credencial\n",
    "host = 'comunidade-ds-postgres.c50pcakiuwi3.us-east-1.rds.amazonaws.com'\n",
    "port = 5232\n",
    "database = 'comunidadedsdb'\n",
    "username='member'\n",
    "pwd = 'cdspa'\n"
   ]
  },
  {
   "cell_type": "code",
   "execution_count": 6,
   "metadata": {},
   "outputs": [
    {
     "ename": "OperationalError",
     "evalue": "could not translate host name \"comunidade-ds-postgres.c50pcakiuwi3.us-east-1.rds.amazonaws.com\" to address: nodename nor servname provided, or not known\n",
     "output_type": "error",
     "traceback": [
      "\u001b[0;31m---------------------------------------------------------------------------\u001b[0m",
      "\u001b[0;31mOperationalError\u001b[0m                          Traceback (most recent call last)",
      "\u001b[1;32m/Users/hallanmiranda/Documents/repo/comunidade/pa004/notebooks/conexcao_sql.ipynb Célula 5\u001b[0m line \u001b[0;36m1\n\u001b[0;32m----> <a href='vscode-notebook-cell:/Users/hallanmiranda/Documents/repo/comunidade/pa004/notebooks/conexcao_sql.ipynb#W4sZmlsZQ%3D%3D?line=0'>1</a>\u001b[0m conn \u001b[39m=\u001b[39m pg\u001b[39m.\u001b[39;49mconnect(user\u001b[39m=\u001b[39;49musername,\n\u001b[1;32m      <a href='vscode-notebook-cell:/Users/hallanmiranda/Documents/repo/comunidade/pa004/notebooks/conexcao_sql.ipynb#W4sZmlsZQ%3D%3D?line=1'>2</a>\u001b[0m                   password\u001b[39m=\u001b[39;49mpwd,\n\u001b[1;32m      <a href='vscode-notebook-cell:/Users/hallanmiranda/Documents/repo/comunidade/pa004/notebooks/conexcao_sql.ipynb#W4sZmlsZQ%3D%3D?line=2'>3</a>\u001b[0m                   host\u001b[39m=\u001b[39;49mhost,\n\u001b[1;32m      <a href='vscode-notebook-cell:/Users/hallanmiranda/Documents/repo/comunidade/pa004/notebooks/conexcao_sql.ipynb#W4sZmlsZQ%3D%3D?line=3'>4</a>\u001b[0m                   port\u001b[39m=\u001b[39;49mport,\n\u001b[1;32m      <a href='vscode-notebook-cell:/Users/hallanmiranda/Documents/repo/comunidade/pa004/notebooks/conexcao_sql.ipynb#W4sZmlsZQ%3D%3D?line=4'>5</a>\u001b[0m                   database\u001b[39m=\u001b[39;49mdatabase )\n",
      "File \u001b[0;32m~/Documents/repo/comunidade/pa004/env-pa004/lib/python3.11/site-packages/psycopg2/__init__.py:122\u001b[0m, in \u001b[0;36mconnect\u001b[0;34m(dsn, connection_factory, cursor_factory, **kwargs)\u001b[0m\n\u001b[1;32m    119\u001b[0m     kwasync[\u001b[39m'\u001b[39m\u001b[39masync_\u001b[39m\u001b[39m'\u001b[39m] \u001b[39m=\u001b[39m kwargs\u001b[39m.\u001b[39mpop(\u001b[39m'\u001b[39m\u001b[39masync_\u001b[39m\u001b[39m'\u001b[39m)\n\u001b[1;32m    121\u001b[0m dsn \u001b[39m=\u001b[39m _ext\u001b[39m.\u001b[39mmake_dsn(dsn, \u001b[39m*\u001b[39m\u001b[39m*\u001b[39mkwargs)\n\u001b[0;32m--> 122\u001b[0m conn \u001b[39m=\u001b[39m _connect(dsn, connection_factory\u001b[39m=\u001b[39;49mconnection_factory, \u001b[39m*\u001b[39;49m\u001b[39m*\u001b[39;49mkwasync)\n\u001b[1;32m    123\u001b[0m \u001b[39mif\u001b[39;00m cursor_factory \u001b[39mis\u001b[39;00m \u001b[39mnot\u001b[39;00m \u001b[39mNone\u001b[39;00m:\n\u001b[1;32m    124\u001b[0m     conn\u001b[39m.\u001b[39mcursor_factory \u001b[39m=\u001b[39m cursor_factory\n",
      "\u001b[0;31mOperationalError\u001b[0m: could not translate host name \"comunidade-ds-postgres.c50pcakiuwi3.us-east-1.rds.amazonaws.com\" to address: nodename nor servname provided, or not known\n"
     ]
    }
   ],
   "source": [
    "conn = pg.connect(user=username,\n",
    "                  password=pwd,\n",
    "                  host=host,\n",
    "                  port=port,\n",
    "                  database=database )"
   ]
  },
  {
   "cell_type": "code",
   "execution_count": 7,
   "metadata": {},
   "outputs": [
    {
     "ename": "NameError",
     "evalue": "name 'conn' is not defined",
     "output_type": "error",
     "traceback": [
      "\u001b[0;31m---------------------------------------------------------------------------\u001b[0m",
      "\u001b[0;31mNameError\u001b[0m                                 Traceback (most recent call last)",
      "\u001b[1;32m/Users/hallanmiranda/Documents/repo/comunidade/pa004/notebooks/conexcao_sql.ipynb Célula 6\u001b[0m line \u001b[0;36m1\n\u001b[0;32m----> <a href='vscode-notebook-cell:/Users/hallanmiranda/Documents/repo/comunidade/pa004/notebooks/conexcao_sql.ipynb#W5sZmlsZQ%3D%3D?line=0'>1</a>\u001b[0m cursor \u001b[39m=\u001b[39m conn\u001b[39m.\u001b[39mcursor()\n\u001b[1;32m      <a href='vscode-notebook-cell:/Users/hallanmiranda/Documents/repo/comunidade/pa004/notebooks/conexcao_sql.ipynb#W5sZmlsZQ%3D%3D?line=2'>3</a>\u001b[0m query_schema \u001b[39m=\u001b[39m \u001b[39m\"\"\"\u001b[39m\n\u001b[1;32m      <a href='vscode-notebook-cell:/Users/hallanmiranda/Documents/repo/comunidade/pa004/notebooks/conexcao_sql.ipynb#W5sZmlsZQ%3D%3D?line=3'>4</a>\u001b[0m \u001b[39m    SELECT nspname\u001b[39m\n\u001b[1;32m      <a href='vscode-notebook-cell:/Users/hallanmiranda/Documents/repo/comunidade/pa004/notebooks/conexcao_sql.ipynb#W5sZmlsZQ%3D%3D?line=4'>5</a>\u001b[0m \u001b[39m    FROM pg_catalog.pg_namespace\u001b[39m\n\u001b[1;32m      <a href='vscode-notebook-cell:/Users/hallanmiranda/Documents/repo/comunidade/pa004/notebooks/conexcao_sql.ipynb#W5sZmlsZQ%3D%3D?line=5'>6</a>\u001b[0m \u001b[39m\"\"\"\u001b[39m\n\u001b[1;32m      <a href='vscode-notebook-cell:/Users/hallanmiranda/Documents/repo/comunidade/pa004/notebooks/conexcao_sql.ipynb#W5sZmlsZQ%3D%3D?line=6'>7</a>\u001b[0m cursor\u001b[39m.\u001b[39mexecute( query_schema)\n",
      "\u001b[0;31mNameError\u001b[0m: name 'conn' is not defined"
     ]
    }
   ],
   "source": [
    "cursor = conn.cursor()\n",
    "\n",
    "query_schema = \"\"\"\n",
    "    SELECT nspname\n",
    "    FROM pg_catalog.pg_namespace\n",
    "\"\"\"\n",
    "cursor.execute( query_schema)\n",
    "\n",
    "record = cursor.fetchall()\n",
    "cursor.close()\n",
    "conn.close()"
   ]
  },
  {
   "cell_type": "markdown",
   "metadata": {},
   "source": [
    "# 2.0 Table Query"
   ]
  },
  {
   "cell_type": "code",
   "execution_count": null,
   "metadata": {},
   "outputs": [],
   "source": [
    "cursor = conn.cursor()\n",
    "\n",
    "query_schema = \"\"\"\n",
    "    SELECT tablename\n",
    "    FROM pg_tables\n",
    "    WHERE schemaname='pa004'\n",
    "\"\"\"\n",
    "cursor.execute( query_schema)\n",
    "\n",
    "record = cursor.fetchall()\n",
    "cursor.close()\n",
    "conn.close()"
   ]
  },
  {
   "cell_type": "markdown",
   "metadata": {},
   "source": [
    "4.0 collect data usining Pandas (com pndas )"
   ]
  },
  {
   "cell_type": "code",
   "execution_count": 11,
   "metadata": {},
   "outputs": [],
   "source": [
    "import pandas.io.sql as psql\n",
    "import pandas as pd"
   ]
  },
  {
   "cell_type": "code",
   "execution_count": null,
   "metadata": {},
   "outputs": [],
   "source": [
    "query_schema_tables = \"\"\"\n",
    "    SELECT tablename\n",
    "    FROM pg_tables\n",
    "    WHERE schemaname='pa004'\n",
    "    limit = 10\n",
    "\"\"\"\n",
    "\n",
    "df = psql.read_sql( query_schema_tables, conn )\n",
    "df.head()\n",
    "\n",
    "# ou \n",
    "\n",
    "\n"
   ]
  },
  {
   "cell_type": "code",
   "execution_count": 13,
   "metadata": {},
   "outputs": [
    {
     "ename": "NameError",
     "evalue": "name 'query_schema_tables' is not defined",
     "output_type": "error",
     "traceback": [
      "\u001b[0;31m---------------------------------------------------------------------------\u001b[0m",
      "\u001b[0;31mNameError\u001b[0m                                 Traceback (most recent call last)",
      "\u001b[1;32m/Users/hallanmiranda/Documents/repo/comunidade/pa004/notebooks/conexcao_sql.ipynb Célula 12\u001b[0m line \u001b[0;36m1\n\u001b[0;32m----> <a href='vscode-notebook-cell:/Users/hallanmiranda/Documents/repo/comunidade/pa004/notebooks/conexcao_sql.ipynb#X14sZmlsZQ%3D%3D?line=0'>1</a>\u001b[0m df1 \u001b[39m=\u001b[39m pd\u001b[39m.\u001b[39mread_sql( query_schema_tables, conn)\n\u001b[1;32m      <a href='vscode-notebook-cell:/Users/hallanmiranda/Documents/repo/comunidade/pa004/notebooks/conexcao_sql.ipynb#X14sZmlsZQ%3D%3D?line=1'>2</a>\u001b[0m \u001b[39m# Excluir as col 5 e 9 \u001b[39;00m\n\u001b[1;32m      <a href='vscode-notebook-cell:/Users/hallanmiranda/Documents/repo/comunidade/pa004/notebooks/conexcao_sql.ipynb#X14sZmlsZQ%3D%3D?line=2'>3</a>\u001b[0m df1 \u001b[39m=\u001b[39m df1\u001b[39m.\u001b[39mdrop( df\u001b[39m.\u001b[39mcolumns[[\u001b[39m5\u001b[39m, \u001b[39m9\u001b[39m]], axis\u001b[39m=\u001b[39m\u001b[39m1\u001b[39m )\n",
      "\u001b[0;31mNameError\u001b[0m: name 'query_schema_tables' is not defined"
     ]
    }
   ],
   "source": [
    "df1 = pd.read_sql( query_schema_tables, conn)\n",
    "# Excluir as col 5 e 9 \n",
    "df1 = df1.drop( df.columns[[5, 9]], axis=1 )\n",
    "df1.head()"
   ]
  },
  {
   "cell_type": "code",
   "execution_count": null,
   "metadata": {},
   "outputs": [],
   "source": []
  }
 ],
 "metadata": {
  "kernelspec": {
   "display_name": "env-pa004",
   "language": "python",
   "name": "python3"
  },
  "language_info": {
   "codemirror_mode": {
    "name": "ipython",
    "version": 3
   },
   "file_extension": ".py",
   "mimetype": "text/x-python",
   "name": "python",
   "nbconvert_exporter": "python",
   "pygments_lexer": "ipython3",
   "version": "3.11.5"
  },
  "orig_nbformat": 4
 },
 "nbformat": 4,
 "nbformat_minor": 2
}
